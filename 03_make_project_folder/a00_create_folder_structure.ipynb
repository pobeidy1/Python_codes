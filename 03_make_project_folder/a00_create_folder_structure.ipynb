{
 "cells": [
  {
   "cell_type": "code",
   "execution_count": 13,
   "id": "14fc3d6f",
   "metadata": {},
   "outputs": [],
   "source": [
    "import os\n",
    "\n",
    "def create_folder_structure(proj_name, data='data', output='output', figures='figures',\n",
    "                            src='src', scripts='scripts', docs='docs'):\n",
    "    if not os.path.exists(proj_name):\n",
    "        os.makedirs(proj_name)\n",
    "    folders = [os.path.join(proj_name, folder) for folder in [data, output, figures, src, docs]]\n",
    "    for folder in folders:\n",
    "        if not os.path.exists(folder):\n",
    "            os.makedirs(folder)\n",
    "    \n",
    "    def create_src_subfolders(proj_name):\n",
    "        src_path = os.path.join(proj_name, 'src')\n",
    "        if not os.path.exists(src_path):\n",
    "            os.makedirs(src_path)\n",
    "\n",
    "        functions_path = os.path.join(src_path, 'functions')\n",
    "        if not os.path.exists(functions_path):\n",
    "            os.makedirs(functions_path)\n",
    "\n",
    "        scripts_path = os.path.join(src_path, 'scripts')\n",
    "        if not os.path.exists(scripts_path):\n",
    "            os.makedirs(scripts_path)\n",
    "\n",
    "    create_src_subfolders(proj_name)\n",
    "\n",
    "# Call the function with user given name\n",
    "proj_name = \"a001_proj_QSM_Atls_seg\"\n",
    "create_folder_structure(proj_name)\n"
   ]
  },
  {
   "cell_type": "code",
   "execution_count": null,
   "id": "599205df",
   "metadata": {},
   "outputs": [],
   "source": []
  }
 ],
 "metadata": {
  "kernelspec": {
   "display_name": "env01",
   "language": "python",
   "name": "env01"
  },
  "language_info": {
   "codemirror_mode": {
    "name": "ipython",
    "version": 3
   },
   "file_extension": ".py",
   "mimetype": "text/x-python",
   "name": "python",
   "nbconvert_exporter": "python",
   "pygments_lexer": "ipython3",
   "version": "3.9.12"
  }
 },
 "nbformat": 4,
 "nbformat_minor": 5
}
